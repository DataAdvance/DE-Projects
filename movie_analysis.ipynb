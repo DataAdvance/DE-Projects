{
 "cells": [
  {
   "cell_type": "code",
   "execution_count": 1,
   "id": "2a8341f2",
   "metadata": {},
   "outputs": [],
   "source": [
    "import requests\n",
    "from pyspark.sql import SparkSession\n"
   ]
  },
  {
   "cell_type": "code",
   "execution_count": 2,
   "id": "6e1c50ce",
   "metadata": {},
   "outputs": [],
   "source": [
    "import pyspark"
   ]
  },
  {
   "cell_type": "code",
   "execution_count": 3,
   "id": "47e0313e",
   "metadata": {},
   "outputs": [],
   "source": [
    "spark = SparkSession.builder.appName(\"Movieanalysis\").getOrCreate()"
   ]
  },
  {
   "cell_type": "code",
   "execution_count": 4,
   "id": "a99c4e4e",
   "metadata": {},
   "outputs": [],
   "source": [
    "api_key = \"0fecc2c4c89ffb94c6f4fed5e5cdad57\""
   ]
  },
  {
   "cell_type": "code",
   "execution_count": 5,
   "id": "088b6169",
   "metadata": {},
   "outputs": [],
   "source": [
    "movie_ids = [0, 299534, 19995, 140607, 299536, 597, 135397, 420818, \n",
    "             24428, 168259, 99861, 284054, 12445, 181808, 330457, \n",
    "             351286, 109445, 321612, 260513]\n"
   ]
  },
  {
   "cell_type": "code",
   "execution_count": 6,
   "id": "0189c29c",
   "metadata": {},
   "outputs": [],
   "source": [
    "# Define the TMDB API endpoint\n",
    "movie_endpoint = \"https://api.themoviedb.org/3/movie\"\n",
    "\n",
    "# Create a list to store movie data\n",
    "movie_responses = []\n",
    "\n",
    "for movie_id in movie_ids:\n",
    "    if movie_id == 0:\n",
    "        continue\n",
    "    url = f\"{movie_endpoint}/{movie_id}\"\n",
    "    response = requests.get(url, params={\"api_key\": api_key, \"append_to_response\": \"credits,\"})\n",
    "    if response.status_code == 200:\n",
    "        movie_responses.append(response.json())\n",
    "    else:\n",
    "        print(f\"Failed to fetch data for movie ID {movie_id}\")\n",
    "\n",
    "# Convert to Spark DataFrame\n",
    "spark_df = spark.createDataFrame(movie_responses)\n"
   ]
  },
  {
   "cell_type": "code",
   "execution_count": 7,
   "id": "05c2edaf",
   "metadata": {},
   "outputs": [
    {
     "name": "stdout",
     "output_type": "stream",
     "text": [
      "root\n",
      " |-- adult: boolean (nullable = true)\n",
      " |-- backdrop_path: string (nullable = true)\n",
      " |-- belongs_to_collection: map (nullable = true)\n",
      " |    |-- key: string\n",
      " |    |-- value: long (valueContainsNull = true)\n",
      " |-- budget: long (nullable = true)\n",
      " |-- credits: map (nullable = true)\n",
      " |    |-- key: string\n",
      " |    |-- value: array (valueContainsNull = true)\n",
      " |    |    |-- element: map (containsNull = true)\n",
      " |    |    |    |-- key: string\n",
      " |    |    |    |-- value: boolean (valueContainsNull = true)\n",
      " |-- genres: array (nullable = true)\n",
      " |    |-- element: map (containsNull = true)\n",
      " |    |    |-- key: string\n",
      " |    |    |-- value: long (valueContainsNull = true)\n",
      " |-- homepage: string (nullable = true)\n",
      " |-- id: long (nullable = true)\n",
      " |-- imdb_id: string (nullable = true)\n",
      " |-- origin_country: array (nullable = true)\n",
      " |    |-- element: string (containsNull = true)\n",
      " |-- original_language: string (nullable = true)\n",
      " |-- original_title: string (nullable = true)\n",
      " |-- overview: string (nullable = true)\n",
      " |-- popularity: double (nullable = true)\n",
      " |-- poster_path: string (nullable = true)\n",
      " |-- production_companies: array (nullable = true)\n",
      " |    |-- element: map (containsNull = true)\n",
      " |    |    |-- key: string\n",
      " |    |    |-- value: long (valueContainsNull = true)\n",
      " |-- production_countries: array (nullable = true)\n",
      " |    |-- element: map (containsNull = true)\n",
      " |    |    |-- key: string\n",
      " |    |    |-- value: string (valueContainsNull = true)\n",
      " |-- release_date: string (nullable = true)\n",
      " |-- revenue: long (nullable = true)\n",
      " |-- runtime: long (nullable = true)\n",
      " |-- spoken_languages: array (nullable = true)\n",
      " |    |-- element: map (containsNull = true)\n",
      " |    |    |-- key: string\n",
      " |    |    |-- value: string (valueContainsNull = true)\n",
      " |-- status: string (nullable = true)\n",
      " |-- tagline: string (nullable = true)\n",
      " |-- title: string (nullable = true)\n",
      " |-- video: boolean (nullable = true)\n",
      " |-- vote_average: double (nullable = true)\n",
      " |-- vote_count: long (nullable = true)\n",
      "\n"
     ]
    }
   ],
   "source": [
    "spark_df.printSchema()"
   ]
  },
  {
   "cell_type": "code",
   "execution_count": 8,
   "id": "b37ef19d",
   "metadata": {},
   "outputs": [],
   "source": [
    "# Drop columns that aren't useful for analysis\n",
    "irrelevant_cols = ['adult', 'imdb_id', 'original_title', 'video', 'homepage']\n",
    "spark_df = spark_df.drop(*irrelevant_cols)\n"
   ]
  },
  {
   "cell_type": "code",
   "execution_count": 9,
   "id": "f51d2815",
   "metadata": {},
   "outputs": [],
   "source": [
    "from pyspark.sql.functions import udf, col, from_json, explode, lit\n",
    "from pyspark.sql.types import StringType, ArrayType, StructType, StructField\n",
    "\n",
    "def extract_names(data):\n",
    "    if isinstance(data, list):\n",
    "        return \"|\".join([x.get('name', '') for x in data if 'name' in x])\n",
    "    return None\n",
    "\n",
    "extract_udf = udf(extract_names, StringType())\n",
    "\n",
    "json_cols = [\n",
    "    \"belongs_to_collection\", \"genres\", \"spoken_languages\", \n",
    "    \"production_countries\", \"production_companies\"\n",
    "]\n",
    "\n",
    "spark_df = spark_df.withColumn(\"belongs_to_collection\", col(\"belongs_to_collection.name\"))\n",
    "\n",
    "for col_name in json_cols[1:]:  # Skip belongs_to_collection (handled above)\n",
    "    spark_df = spark_df.withColumn(col_name, extract_udf(col(col_name)))\n"
   ]
  },
  {
   "cell_type": "code",
   "execution_count": 10,
   "id": "1a45d7d4",
   "metadata": {},
   "outputs": [],
   "source": [
    "from pyspark.sql.functions import to_date, when\n",
    "\n",
    "# Replace zero values in budget, revenue, runtime with nulls (missing)\n",
    "spark_df = spark_df.withColumn(\"budget\", when(col(\"budget\") == 0, None).otherwise(col(\"budget\")))\n",
    "spark_df = spark_df.withColumn(\"revenue\", when(col(\"revenue\") == 0, None).otherwise(col(\"revenue\")))\n",
    "spark_df = spark_df.withColumn(\"runtime\", when(col(\"runtime\") == 0, None).otherwise(col(\"runtime\")))"
   ]
  },
  {
   "cell_type": "code",
   "execution_count": 11,
   "id": "449726ac",
   "metadata": {},
   "outputs": [],
   "source": [
    "# Ensure numeric columns are cast to proper types\n",
    "spark_df = spark_df.withColumn(\"budget\", col(\"budget\").cast(\"double\"))\n",
    "spark_df = spark_df.withColumn(\"revenue\", col(\"revenue\").cast(\"double\"))\n",
    "spark_df = spark_df.withColumn(\"popularity\", col(\"popularity\").cast(\"double\"))\n",
    "spark_df = spark_df.withColumn(\"vote_count\", col(\"vote_count\").cast(\"int\"))\n",
    "spark_df = spark_df.withColumn(\"vote_average\", col(\"vote_average\").cast(\"double\"))\n"
   ]
  },
  {
   "cell_type": "code",
   "execution_count": 13,
   "id": "13eed7d6",
   "metadata": {},
   "outputs": [],
   "source": [
    "# Convert 'release_date' string to Spark DateType\n",
    "spark_df = spark_df.withColumn(\"release_date\", to_date(col(\"release_date\"), \"yyyy-MM-dd\"))\n"
   ]
  },
  {
   "cell_type": "code",
   "execution_count": 14,
   "id": "21d0e356",
   "metadata": {},
   "outputs": [],
   "source": [
    "# Replace placeholder text values with nulls\n",
    "spark_df = spark_df.withColumn(\"tagline\", when(col(\"tagline\").isin(\"No Tagline\", \"\"), None).otherwise(col(\"tagline\")))\n",
    "spark_df = spark_df.withColumn(\"overview\", when(col(\"overview\").isin(\"No Data\", \"\"), None).otherwise(col(\"overview\")))\n"
   ]
  },
  {
   "cell_type": "code",
   "execution_count": 15,
   "id": "d58a5852",
   "metadata": {},
   "outputs": [],
   "source": [
    "from pyspark.sql.functions import col\n",
    "\n",
    "# Drop rows with missing ID or title\n",
    "spark_df = spark_df.filter(col(\"id\").isNotNull() & col(\"title\").isNotNull())\n",
    "\n",
    "# Only keep 'Released' status movies, then drop 'status'\n",
    "spark_df = spark_df.filter(col(\"status\") == \"Released\").drop(\"status\")\n",
    "\n",
    "# Drop duplicates\n",
    "spark_df = spark_df.dropDuplicates([\"id\"])\n"
   ]
  },
  {
   "cell_type": "code",
   "execution_count": 16,
   "id": "6d88f737",
   "metadata": {},
   "outputs": [
    {
     "name": "stdout",
     "output_type": "stream",
     "text": [
      "root\n",
      " |-- backdrop_path: string (nullable = true)\n",
      " |-- belongs_to_collection: long (nullable = true)\n",
      " |-- budget: double (nullable = true)\n",
      " |-- credits: map (nullable = true)\n",
      " |    |-- key: string\n",
      " |    |-- value: array (valueContainsNull = true)\n",
      " |    |    |-- element: map (containsNull = true)\n",
      " |    |    |    |-- key: string\n",
      " |    |    |    |-- value: boolean (valueContainsNull = true)\n",
      " |-- genres: string (nullable = true)\n",
      " |-- id: long (nullable = true)\n",
      " |-- origin_country: array (nullable = true)\n",
      " |    |-- element: string (containsNull = true)\n",
      " |-- original_language: string (nullable = true)\n",
      " |-- overview: string (nullable = true)\n",
      " |-- popularity: double (nullable = true)\n",
      " |-- poster_path: string (nullable = true)\n",
      " |-- production_companies: string (nullable = true)\n",
      " |-- production_countries: string (nullable = true)\n",
      " |-- release_date: date (nullable = true)\n",
      " |-- revenue: double (nullable = true)\n",
      " |-- runtime: long (nullable = true)\n",
      " |-- spoken_languages: string (nullable = true)\n",
      " |-- tagline: string (nullable = true)\n",
      " |-- title: string (nullable = true)\n",
      " |-- vote_average: double (nullable = true)\n",
      " |-- vote_count: integer (nullable = true)\n",
      "\n"
     ]
    }
   ],
   "source": [
    "spark_df.printSchema()"
   ]
  },
  {
   "cell_type": "code",
   "execution_count": 17,
   "metadata": {},
   "outputs": [],
   "source": [
    "from pyspark.sql.functions import when\n",
    "\n",
    "# Count number of non-null columns for each row\n",
    "non_null_count_expr = sum(when(col(c).isNotNull(), 1).otherwise(0) for c in spark_df.columns)\n",
    "\n",
    "# Keep only rows with at least 10 non-null values\n",
    "spark_df = spark_df.filter(non_null_count_expr >= 10)\n"
   ]
  },
  {
   "cell_type": "code",
   "execution_count": null,
   "id": "170c7009",
   "metadata": {},
   "outputs": [],
   "source": [
    "from pyspark.sql.functions import size, arrays_zip, explode\n",
    "\n",
    "# Create UDFs to extract cast and crew information\n",
    "\n",
    "# Function to extract director names\n",
    "def extract_director(credits_data):\n",
    "    if credits_data and 'crew' in credits_data:\n",
    "        directors = [member.get('name', '') for member in credits_data['crew'] \n",
    "                    if member.get('job', '').lower() == 'director']\n",
    "        return '|'.join(directors) if directors else None\n",
    "    return None\n",
    "\n",
    "# Function to get cast size\n",
    "def get_cast_size(credits_data):\n",
    "    if credits_data and 'cast' in credits_data:\n",
    "        return len(credits_data['cast'])\n",
    "    return 0\n",
    "\n",
    "# Function to get crew size\n",
    "def get_crew_size(credits_data):\n",
    "    if credits_data and 'crew' in credits_data:\n",
    "        return len(credits_data['crew'])\n",
    "    return 0\n",
    "\n",
    "# Create UDFs\n",
    "director_udf = udf(extract_director, StringType())\n",
    "cast_size_udf = udf(get_cast_size, StringType())\n",
    "crew_size_udf = udf(get_crew_size, StringType())\n",
    "\n",
    "# Apply transformations\n",
    "spark_df = spark_df.withColumn(\"director\", director_udf(col(\"credits\"))) \\\n",
    "                  .withColumn(\"cast_size\", cast_size_udf(col(\"credits\"))) \\\n",
    "                  .withColumn(\"crew_size\", crew_size_udf(col(\"credits\")))\n",
    "\n",
    "# Drop the credits column as it's no longer needed\n",
    "spark_df = spark_df.drop(\"credits\")"
   ]
  },
  {
   "cell_type": "code",
   "execution_count": 18,
   "id": "4b4afe9e",
   "metadata": {},
   "outputs": [],
   "source": [
    "# Convert budget and revenue to millions of USD\n",
    "spark_df = spark_df.withColumn(\"budget_musd\", col(\"budget\") / 1_000_000)\n",
    "spark_df = spark_df.withColumn(\"revenue_musd\", col(\"revenue\") / 1_000_000)\n",
    "\n",
    "# Define the final column order (based on the project spec)\n",
    "final_columns = [\n",
    "    'id', 'title', 'tagline', 'release_date', 'genres', 'belongs_to_collection',\n",
    "    'original_language', 'budget_musd', 'revenue_musd', 'production_companies',\n",
    "    'production_countries', 'vote_count', 'vote_average', 'popularity', 'runtime',\n",
    "    'overview', 'spoken_languages', 'poster_path', 'cast', 'cast_size', \n",
    "    'director', 'crew_size'\n",
    "]\n",
    "\n",
    "# Select columns in the correct order (ignoring any missing ones to prevent errors)\n",
    "spark_df = spark_df.select([c for c in final_columns if c in spark_df.columns])\n"
   ]
  },
  {
   "cell_type": "code",
   "execution_count": null,
   "id": "e74bb46d",
   "metadata": {},
   "outputs": [],
   "source": []
  },
  {
   "cell_type": "code",
   "execution_count": null,
   "id": "c30a1c21",
   "metadata": {},
   "outputs": [],
   "source": []
  }
 ],
 "metadata": {
  "kernelspec": {
   "display_name": "Python 3",
   "language": "python",
   "name": "python3"
  },
  "language_info": {
   "codemirror_mode": {
    "name": "ipython",
    "version": 3
   },
   "file_extension": ".py",
   "mimetype": "text/x-python",
   "name": "python",
   "nbconvert_exporter": "python",
   "pygments_lexer": "ipython3",
   "version": "3.12.0"
  }
 },
 "nbformat": 4,
 "nbformat_minor": 5
}
