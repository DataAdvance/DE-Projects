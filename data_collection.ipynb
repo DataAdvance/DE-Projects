{
 "cells": [
  {
   "cell_type": "markdown",
   "metadata": {},
   "source": [
    "## DATA COLLECTION AND EXTRACTION FROM THE MOVIE DATABASE"
   ]
  },
  {
   "cell_type": "code",
   "execution_count": null,
   "metadata": {},
   "outputs": [
    {
     "name": "stdout",
     "output_type": "stream",
     "text": [
      "Fetched data for movie ID: 299534 - Avengers: Endgame\n",
      "Fetched data for movie ID: 19995 - Avatar\n",
      "Fetched data for movie ID: 140607 - Star Wars: The Force Awakens\n",
      "Fetched data for movie ID: 299536 - Avengers: Infinity War\n",
      "Fetched data for movie ID: 597 - Titanic\n",
      "Fetched data for movie ID: 135397 - Jurassic World\n",
      "Fetched data for movie ID: 420818 - The Lion King\n",
      "Fetched data for movie ID: 24428 - The Avengers\n",
      "Fetched data for movie ID: 168259 - Furious 7\n",
      "Fetched data for movie ID: 99861 - Avengers: Age of Ultron\n",
      "Fetched data for movie ID: 284054 - Black Panther\n",
      "Fetched data for movie ID: 12445 - Harry Potter and the Deathly Hallows: Part 2\n",
      "Fetched data for movie ID: 181808 - Star Wars: The Last Jedi\n",
      "Fetched data for movie ID: 330457 - Frozen II\n",
      "Fetched data for movie ID: 351286 - Jurassic World: Fallen Kingdom\n",
      "Fetched data for movie ID: 109445 - Frozen\n",
      "Fetched data for movie ID: 321612 - Beauty and the Beast\n",
      "Fetched data for movie ID: 260513 - Incredibles 2\n"
     ]
    }
   ],
   "source": [
    "# Import necessary libraries\n",
    "import pandas as pd\n",
    "import numpy as np\n",
    "import matplotlib.pyplot as plt\n",
    "import time\n",
    "import seaborn as sns\n",
    "import requests\n",
    "import json\n",
    "\n",
    "api_key = \"\"\n",
    "base_url = \"https://api.themoviedb.org/3/movie/\"\n",
    "movie_ids = [0, 299534, 19995, 140607, 299536, 597, 135397,\n",
    "             420818, 24428, 168259, 99861, 284054, 12445,\n",
    "             181808, 330457, 351286, 109445, 321612, 260513]\n",
    "\n",
    "movie_data = []\n",
    "\n",
    "# Single loop to fetch data for each valid movie ID\n",
    "for movie_id in movie_ids:\n",
    "    if movie_id == 0:  # Skip invalid ID\n",
    "        continue\n",
    "        \n",
    "    url = f\"{base_url}{movie_id}?api_key={api_key}\"\n",
    "    try:\n",
    "        response = requests.get(url)\n",
    "        time.sleep(1)  # Pause to respect API rate limits\n",
    "\n",
    "        # Raise an exception for bad status codes\n",
    "        response.raise_for_status()  \n",
    "        data = response.json()\n",
    "        movie_data.append(data)\n",
    "        print(f\"Fetched data for movie ID: {movie_id} - {data.get('title')}\")\n",
    "    except requests.exceptions.RequestException as e:\n",
    "        print(f\"Error fetching data for movie ID {movie_id}: {e}\")\n",
    "    except ValueError:\n",
    "        print(f\"Error decoding JSON for movie ID {movie_id}\")\n",
    "\n",
    "# Creating a Pandas DataFrame from the fetched data\n",
    "df = pd.DataFrame(movie_data)\n",
    "\n",
    "# Create DataFrame and save to CSV\n",
    "df.to_csv(\"../DE Project.csv\", index=False)\n"
   ]
  },
  {
   "cell_type": "markdown",
   "metadata": {},
   "source": [
    "CREDIT INFORMATION EXTRACTION AND PREPROCESSING"
   ]
  },
  {
   "cell_type": "code",
   "execution_count": null,
   "metadata": {},
   "outputs": [],
   "source": [
    "\n",
    "\n",
    "# Function to fetch movie credits (cast and crew)\n",
    "def fetch_credits(movie_id):\n",
    "    url = f\"{base_url}{movie_id}/credits?api_key={api_key}\"\n",
    "    response = requests.get(url)\n",
    "    \n",
    "    if response.status_code == 200:\n",
    "        data = response.json()\n",
    "        \n",
    "        cast = [member['name'] for member in data.get('cast', [])]\n",
    "        cast_size = len(cast)\n",
    "        \n",
    "        # Get Director(s)\n",
    "        directors = [member['name'] for member in data.get('crew', []) if member['job'] == 'Director']\n",
    "        crew_size = len(data.get('crew', []))\n",
    "        \n",
    "        return {\n",
    "            'movie_id': movie_id,\n",
    "            'cast': cast,\n",
    "            'cast_size': cast_size,\n",
    "            'director': directors,\n",
    "            'crew_size': crew_size\n",
    "        }\n",
    "    else:\n",
    "        print(f\"Movie ID {movie_id} not found.\")\n",
    "        return {\n",
    "            'movie_id': movie_id,\n",
    "            'cast': [],\n",
    "            'cast_size': 0,\n",
    "            'director': [],\n",
    "            'crew_size': 0\n",
    "        }\n",
    "\n",
    "# Fetch data for all movie IDs\n",
    "credits_data = [fetch_credits(movie_id) for movie_id in movie_ids]\n",
    "\n",
    "# Create DataFrame\n",
    "df_credits = pd.DataFrame(credits_data)\n",
    "\n",
    "df_credits.to_csv(\"../data/extracted_df1.csv\", index=False)\n",
    "\n"
   ]
  },
  {
   "cell_type": "code",
   "execution_count": null,
   "metadata": {},
   "outputs": [
    {
     "name": "stdout",
     "output_type": "stream",
     "text": [
      "<class 'pandas.core.frame.DataFrame'>\n",
      "RangeIndex: 19 entries, 0 to 18\n",
      "Data columns (total 5 columns):\n",
      " #   Column     Non-Null Count  Dtype \n",
      "---  ------     --------------  ----- \n",
      " 0   movie_id   19 non-null     int64 \n",
      " 1   cast       19 non-null     object\n",
      " 2   cast_size  19 non-null     int64 \n",
      " 3   director   19 non-null     object\n",
      " 4   crew_size  19 non-null     int64 \n",
      "dtypes: int64(3), object(2)\n",
      "memory usage: 892.0+ bytes\n"
     ]
    }
   ],
   "source": [
    "# Display information about the DataFrame\n",
    "df_credits.info()"
   ]
  }
 ],
 "metadata": {
  "kernelspec": {
   "display_name": "Python 3",
   "language": "python",
   "name": "python3"
  },
  "language_info": {
   "codemirror_mode": {
    "name": "ipython",
    "version": 3
   },
   "file_extension": ".py",
   "mimetype": "text/x-python",
   "name": "python",
   "nbconvert_exporter": "python",
   "pygments_lexer": "ipython3",
   "version": "3.12.0"
  }
 },
 "nbformat": 4,
 "nbformat_minor": 2
}
